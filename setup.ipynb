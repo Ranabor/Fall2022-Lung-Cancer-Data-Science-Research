{
 "cells": [
  {
   "cell_type": "code",
   "execution_count": 1,
   "metadata": {},
   "outputs": [
    {
     "name": "stdout",
     "output_type": "stream",
     "text": [
      "Requirement already satisfied: datascience in c:\\users\\reddy\\anaconda3\\lib\\site-packages (0.17.5)\n",
      "Requirement already satisfied: numpy in c:\\users\\reddy\\anaconda3\\lib\\site-packages (from datascience) (1.21.5)\n",
      "Requirement already satisfied: branca in c:\\users\\reddy\\anaconda3\\lib\\site-packages (from datascience) (0.5.0)\n",
      "Requirement already satisfied: pandas in c:\\users\\reddy\\anaconda3\\lib\\site-packages (from datascience) (1.4.2)\n",
      "Requirement already satisfied: folium>=0.9.1 in c:\\users\\reddy\\anaconda3\\lib\\site-packages (from datascience) (0.12.1.post1)\n",
      "Requirement already satisfied: matplotlib>=3.0.0 in c:\\users\\reddy\\anaconda3\\lib\\site-packages (from datascience) (3.5.1)\n",
      "Requirement already satisfied: plotly in c:\\users\\reddy\\anaconda3\\lib\\site-packages (from datascience) (5.6.0)\n",
      "Requirement already satisfied: setuptools in c:\\users\\reddy\\anaconda3\\lib\\site-packages (from datascience) (61.2.0)\n",
      "Requirement already satisfied: ipython in c:\\users\\reddy\\anaconda3\\lib\\site-packages (from datascience) (8.2.0)\n",
      "Requirement already satisfied: scipy in c:\\users\\reddy\\anaconda3\\lib\\site-packages (from datascience) (1.7.3)\n",
      "Requirement already satisfied: jinja2>=2.9 in c:\\users\\reddy\\anaconda3\\lib\\site-packages (from folium>=0.9.1->datascience) (2.11.3)\n",
      "Requirement already satisfied: requests in c:\\users\\reddy\\anaconda3\\lib\\site-packages (from folium>=0.9.1->datascience) (2.27.1)\n",
      "Requirement already satisfied: MarkupSafe>=0.23 in c:\\users\\reddy\\anaconda3\\lib\\site-packages (from jinja2>=2.9->folium>=0.9.1->datascience) (2.0.1)\n",
      "Requirement already satisfied: pillow>=6.2.0 in c:\\users\\reddy\\anaconda3\\lib\\site-packages (from matplotlib>=3.0.0->datascience) (9.0.1)\n",
      "Requirement already satisfied: pyparsing>=2.2.1 in c:\\users\\reddy\\anaconda3\\lib\\site-packages (from matplotlib>=3.0.0->datascience) (3.0.4)\n",
      "Requirement already satisfied: fonttools>=4.22.0 in c:\\users\\reddy\\anaconda3\\lib\\site-packages (from matplotlib>=3.0.0->datascience) (4.25.0)\n",
      "Requirement already satisfied: packaging>=20.0 in c:\\users\\reddy\\anaconda3\\lib\\site-packages (from matplotlib>=3.0.0->datascience) (21.3)\n",
      "Requirement already satisfied: kiwisolver>=1.0.1 in c:\\users\\reddy\\anaconda3\\lib\\site-packages (from matplotlib>=3.0.0->datascience) (1.3.2)\n",
      "Requirement already satisfied: python-dateutil>=2.7 in c:\\users\\reddy\\anaconda3\\lib\\site-packages (from matplotlib>=3.0.0->datascience) (2.8.2)\n",
      "Requirement already satisfied: cycler>=0.10 in c:\\users\\reddy\\anaconda3\\lib\\site-packages (from matplotlib>=3.0.0->datascience) (0.11.0)\n",
      "Requirement already satisfied: six>=1.5 in c:\\users\\reddy\\anaconda3\\lib\\site-packages (from python-dateutil>=2.7->matplotlib>=3.0.0->datascience) (1.16.0)\n",
      "Requirement already satisfied: backcall in c:\\users\\reddy\\anaconda3\\lib\\site-packages (from ipython->datascience) (0.2.0)\n",
      "Requirement already satisfied: traitlets>=5 in c:\\users\\reddy\\anaconda3\\lib\\site-packages (from ipython->datascience) (5.1.1)\n",
      "Requirement already satisfied: colorama in c:\\users\\reddy\\anaconda3\\lib\\site-packages (from ipython->datascience) (0.4.4)\n",
      "Requirement already satisfied: prompt-toolkit!=3.0.0,!=3.0.1,<3.1.0,>=2.0.0 in c:\\users\\reddy\\anaconda3\\lib\\site-packages (from ipython->datascience) (3.0.20)\n",
      "Requirement already satisfied: jedi>=0.16 in c:\\users\\reddy\\anaconda3\\lib\\site-packages (from ipython->datascience) (0.18.1)\n",
      "Requirement already satisfied: stack-data in c:\\users\\reddy\\anaconda3\\lib\\site-packages (from ipython->datascience) (0.2.0)\n",
      "Requirement already satisfied: decorator in c:\\users\\reddy\\anaconda3\\lib\\site-packages (from ipython->datascience) (5.1.1)\n",
      "Requirement already satisfied: pygments>=2.4.0 in c:\\users\\reddy\\anaconda3\\lib\\site-packages (from ipython->datascience) (2.11.2)\n",
      "Requirement already satisfied: pickleshare in c:\\users\\reddy\\anaconda3\\lib\\site-packages (from ipython->datascience) (0.7.5)\n",
      "Requirement already satisfied: matplotlib-inline in c:\\users\\reddy\\anaconda3\\lib\\site-packages (from ipython->datascience) (0.1.2)\n",
      "Requirement already satisfied: parso<0.9.0,>=0.8.0 in c:\\users\\reddy\\anaconda3\\lib\\site-packages (from jedi>=0.16->ipython->datascience) (0.8.3)\n",
      "Requirement already satisfied: wcwidth in c:\\users\\reddy\\anaconda3\\lib\\site-packages (from prompt-toolkit!=3.0.0,!=3.0.1,<3.1.0,>=2.0.0->ipython->datascience) (0.2.5)\n",
      "Requirement already satisfied: pytz>=2020.1 in c:\\users\\reddy\\anaconda3\\lib\\site-packages (from pandas->datascience) (2021.3)\n",
      "Requirement already satisfied: tenacity>=6.2.0 in c:\\users\\reddy\\anaconda3\\lib\\site-packages (from plotly->datascience) (8.0.1)\n",
      "Requirement already satisfied: urllib3<1.27,>=1.21.1 in c:\\users\\reddy\\anaconda3\\lib\\site-packages (from requests->folium>=0.9.1->datascience) (1.26.9)\n",
      "Requirement already satisfied: idna<4,>=2.5 in c:\\users\\reddy\\anaconda3\\lib\\site-packages (from requests->folium>=0.9.1->datascience) (3.3)\n",
      "Requirement already satisfied: certifi>=2017.4.17 in c:\\users\\reddy\\anaconda3\\lib\\site-packages (from requests->folium>=0.9.1->datascience) (2021.10.8)\n",
      "Requirement already satisfied: charset-normalizer~=2.0.0 in c:\\users\\reddy\\anaconda3\\lib\\site-packages (from requests->folium>=0.9.1->datascience) (2.0.4)\n",
      "Requirement already satisfied: pure-eval in c:\\users\\reddy\\anaconda3\\lib\\site-packages (from stack-data->ipython->datascience) (0.2.2)\n",
      "Requirement already satisfied: executing in c:\\users\\reddy\\anaconda3\\lib\\site-packages (from stack-data->ipython->datascience) (0.8.3)\n",
      "Requirement already satisfied: asttokens in c:\\users\\reddy\\anaconda3\\lib\\site-packages (from stack-data->ipython->datascience) (2.0.5)\n",
      "Note: you may need to restart the kernel to use updated packages.\n"
     ]
    }
   ],
   "source": [
    "pip install datascience"
   ]
  },
  {
   "cell_type": "code",
   "execution_count": 2,
   "metadata": {},
   "outputs": [
    {
     "name": "stdout",
     "output_type": "stream",
     "text": [
      "Requirement already satisfied: numpy in c:\\users\\reddy\\anaconda3\\lib\\site-packages (1.21.5)\n",
      "Note: you may need to restart the kernel to use updated packages.\n"
     ]
    }
   ],
   "source": [
    "pip install numpy"
   ]
  },
  {
   "cell_type": "code",
   "execution_count": 3,
   "metadata": {},
   "outputs": [
    {
     "name": "stdout",
     "output_type": "stream",
     "text": [
      "Requirement already satisfied: pandas in c:\\users\\reddy\\anaconda3\\lib\\site-packages (1.4.2)\n",
      "Requirement already satisfied: python-dateutil>=2.8.1 in c:\\users\\reddy\\anaconda3\\lib\\site-packages (from pandas) (2.8.2)\n",
      "Requirement already satisfied: numpy>=1.18.5 in c:\\users\\reddy\\anaconda3\\lib\\site-packages (from pandas) (1.21.5)\n",
      "Requirement already satisfied: pytz>=2020.1 in c:\\users\\reddy\\anaconda3\\lib\\site-packages (from pandas) (2021.3)\n",
      "Requirement already satisfied: six>=1.5 in c:\\users\\reddy\\anaconda3\\lib\\site-packages (from python-dateutil>=2.8.1->pandas) (1.16.0)\n",
      "Note: you may need to restart the kernel to use updated packages.\n"
     ]
    }
   ],
   "source": [
    "pip install pandas"
   ]
  },
  {
   "cell_type": "code",
   "execution_count": 6,
   "metadata": {},
   "outputs": [
    {
     "name": "stdout",
     "output_type": "stream",
     "text": [
      "Collecting package metadata (current_repodata.json): ...working... done\n",
      "Solving environment: ...working... done\n",
      "\n",
      "## Package Plan ##\n",
      "\n",
      "  environment location: c:\\Users\\reddy\\anaconda3\n",
      "\n",
      "  added / updated specs:\n",
      "    - seaborn\n",
      "\n",
      "\n",
      "The following packages will be downloaded:\n",
      "\n",
      "    package                    |            build\n",
      "    ---------------------------|-----------------\n",
      "    conda-22.9.0               |   py39haa95532_0         888 KB\n",
      "    ------------------------------------------------------------\n",
      "                                           Total:         888 KB\n",
      "\n",
      "The following packages will be UPDATED:\n",
      "\n",
      "  conda                               4.13.0-py39haa95532_0 --> 22.9.0-py39haa95532_0\n",
      "\n",
      "\n",
      "\n",
      "Downloading and Extracting Packages\n",
      "\n",
      "conda-22.9.0         | 888 KB    |            |   0% \n",
      "conda-22.9.0         | 888 KB    | 1          |   2% \n",
      "conda-22.9.0         | 888 KB    | ####6      |  47% \n",
      "conda-22.9.0         | 888 KB    | ########## | 100% \n",
      "conda-22.9.0         | 888 KB    | ########## | 100% \n",
      "Preparing transaction: ...working... done\n",
      "Verifying transaction: ...working... done\n",
      "Executing transaction: ...working... done\n",
      "\n",
      "Note: you may need to restart the kernel to use updated packages.\n"
     ]
    }
   ],
   "source": [
    "conda install seaborn"
   ]
  },
  {
   "cell_type": "code",
   "execution_count": 7,
   "metadata": {},
   "outputs": [
    {
     "name": "stdout",
     "output_type": "stream",
     "text": [
      "Requirement already satisfied: scipy in c:\\users\\reddy\\anaconda3\\lib\\site-packages (1.7.3)Note: you may need to restart the kernel to use updated packages.\n",
      "Requirement already satisfied: numpy<1.23.0,>=1.16.5 in c:\\users\\reddy\\anaconda3\\lib\\site-packages (from scipy) (1.21.5)\n",
      "\n"
     ]
    }
   ],
   "source": [
    "pip install scipy"
   ]
  }
 ],
 "metadata": {
  "kernelspec": {
   "display_name": "Python 3.9.12 ('base')",
   "language": "python",
   "name": "python3"
  },
  "language_info": {
   "codemirror_mode": {
    "name": "ipython",
    "version": 3
   },
   "file_extension": ".py",
   "mimetype": "text/x-python",
   "name": "python",
   "nbconvert_exporter": "python",
   "pygments_lexer": "ipython3",
   "version": "3.9.12 (main, Apr  4 2022, 05:22:27) [MSC v.1916 64 bit (AMD64)]"
  },
  "orig_nbformat": 4,
  "vscode": {
   "interpreter": {
    "hash": "c1251965841b20313bf7574d8ce7de7f3506ea45495ae040def4b11a14e2cb02"
   }
  }
 },
 "nbformat": 4,
 "nbformat_minor": 2
}
